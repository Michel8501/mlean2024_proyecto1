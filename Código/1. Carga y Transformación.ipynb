{
 "cells": [
  {
   "cell_type": "code",
   "execution_count": null,
   "metadata": {},
   "outputs": [],
   "source": [
    "from ucimlrepo import fetch_ucirepo \n",
    "import pandas as pd\n",
    "import matplotlib.pyplot as plt\n",
    "import numpy as np\n",
    "import seaborn as sns\n",
    "\n",
    "# fetch dataset \n",
    "adult = fetch_ucirepo(id=2) \n",
    "  \n",
    "# data (as pandas dataframes) \n",
    "X = adult.data.features \n",
    "y = adult.data.targets "
   ]
  },
  {
   "cell_type": "code",
   "execution_count": null,
   "metadata": {},
   "outputs": [],
   "source": [
    "X.head(5)"
   ]
  },
  {
   "cell_type": "code",
   "execution_count": null,
   "metadata": {},
   "outputs": [],
   "source": [
    "y.head(5)"
   ]
  },
  {
   "cell_type": "code",
   "execution_count": null,
   "metadata": {},
   "outputs": [],
   "source": [
    "Data=pd.concat([X,y],axis=1)   "
   ]
  },
  {
   "cell_type": "code",
   "execution_count": null,
   "metadata": {},
   "outputs": [],
   "source": [
    "def describir_dataframe(df):\n",
    "    \"\"\"\n",
    "    Función para describir detalladamente un DataFrame.\n",
    "\n",
    "    Args:\n",
    "        df (pandas.DataFrame): El DataFrame a describir.\n",
    "\n",
    "    Returns:\n",
    "        None\n",
    "    \"\"\"\n",
    "\n",
    "    print(\"Resumen general del DataFrame:\")\n",
    "    print(df.info())\n",
    "\n",
    "    print(\"\\nEstadísticas descriptivas de las columnas numéricas:\")\n",
    "    print(df.describe())\n",
    "\n",
    "    print(\"\\nValores únicos y conteo por columna:\")\n",
    "    for col in df.columns:\n",
    "        print(f\"\\nColumna: {col}\")\n",
    "        print(f\"Valores únicos: {df[col].nunique()}\")\n",
    "        print(f\"Tipos de datos: {df[col].dtype}\")\n",
    "        if df[col].dtype == 'object':\n",
    "            print(f\"Valores únicos (categorías):\\n{df[col].value_counts(dropna=False)}\")\n",
    "        elif df[col].dtype in ['int64', 'float64']:\n",
    "            print(f\"Valores nulos: {df[col].isnull().sum()}\")\n",
    "            print(f\"Valores mínimos: {df[col].min()}\")\n",
    "            print(f\"Valores máximos: {df[col].max()}\")\n",
    "            print(f\"Media: {df[col].mean()}\")\n",
    "            print(f\"Mediana: {df[col].median()}\")\n",
    "            print(f\"Desviación estándar: {df[col].std()}\")\n",
    "    for col in df.select_dtypes(include=['number']):\n",
    "        Q1 = df[col].quantile(0.25)\n",
    "        Q3 = df[col].quantile(0.75)\n",
    "        IQR = Q3 - Q1\n",
    "        outliers = df[(df[col] < Q1 - 1.5 * IQR) | (df[col] > Q3 + 1.5 * IQR)]\n",
    "        print(f\"Valores atípicos en {col}: {outliers.shape[0]}\")\n",
    "    for col in df.columns:\n",
    "        if df[col].dtype in ['int64', 'float64']:\n",
    "            # Si la variable es numérica, crea un histograma\n",
    "            plt.figure(figsize=(8, 4))\n",
    "            sns.histplot(data=df, x=col, kde=True)\n",
    "            plt.title(f\"Distribución de {col}\")\n",
    "            plt.show()\n",
    "        else:\n",
    "            # Si la variable es categórica, crea un gráfico de conteo\n",
    "            plt.figure(figsize=(8, 4))\n",
    "            sns.countplot(data=df, x=col)\n",
    "            plt.title(f\"Conteo de valores en {col}\")\n",
    "            plt.xticks(rotation=45)  # Rotar las etiquetas del eje x si es necesario\n",
    "            plt.show()"
   ]
  },
  {
   "cell_type": "code",
   "execution_count": null,
   "metadata": {},
   "outputs": [],
   "source": [
    "describir_dataframe(Data)"
   ]
  },
  {
   "cell_type": "markdown",
   "metadata": {},
   "source": [
    "## Ejercicio\n",
    "\n",
    "De acuerdo con el resumen hacemos una limpieza de los datos.\n",
    "\n",
    "- nulos\n",
    "- Arreglar income\n",
    "- Guardamos"
   ]
  },
  {
   "cell_type": "code",
   "execution_count": null,
   "metadata": {},
   "outputs": [],
   "source": [
    "Data.to_csv('../Datos/data_adults.csv', index=False)"
   ]
  }
 ],
 "metadata": {
  "kernelspec": {
   "display_name": "Python 3",
   "language": "python",
   "name": "python3"
  },
  "language_info": {
   "codemirror_mode": {
    "name": "ipython",
    "version": 3
   },
   "file_extension": ".py",
   "mimetype": "text/x-python",
   "name": "python",
   "nbconvert_exporter": "python",
   "pygments_lexer": "ipython3",
   "version": "3.12.7"
  }
 },
 "nbformat": 4,
 "nbformat_minor": 2
}
